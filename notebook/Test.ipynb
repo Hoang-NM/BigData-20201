{
 "cells": [
  {
   "cell_type": "code",
   "execution_count": 1,
   "metadata": {},
   "outputs": [
    {
     "name": "stdout",
     "output_type": "stream",
     "text": [
      "    Diện tích       Giá\n",
      "0     30.0000   448.524\n",
      "1     32.4138   509.248\n",
      "2     34.8276   535.104\n",
      "3     37.2414   551.432\n",
      "4     39.6552   623.418\n",
      "5     42.0690   625.992\n",
      "6     44.4828   655.248\n",
      "7     46.8966   701.377\n",
      "8     49.3103   748.918\n",
      "9     51.7241   757.881\n",
      "10    54.1379   831.004\n",
      "11    56.5517   855.409\n",
      "12    58.9655   866.707\n",
      "13    61.3793   902.545\n",
      "14    63.7931   952.261\n",
      "15    66.2069   995.531\n",
      "16    68.6207  1069.780\n",
      "17    71.0345  1074.420\n",
      "18    73.4483  1103.880\n",
      "19    75.8621  1138.690\n",
      "20    78.2759  1153.130\n",
      "21    80.6897  1240.270\n",
      "22    83.1034  1251.900\n",
      "23    85.5172  1287.970\n",
      "24    87.9310  1320.470\n",
      "25    90.3448  1374.920\n",
      "26    92.7586  1410.160\n",
      "27    95.1724  1469.690\n",
      "28    97.5862  1478.540\n",
      "29   100.0000  1515.280\n"
     ]
    }
   ],
   "source": [
    "import pandas as pd\n",
    "\n",
    "data = pd.read_csv('data/Prices.csv')\n",
    "\n",
    "print(data)"
   ]
  },
  {
   "cell_type": "code",
   "execution_count": null,
   "metadata": {},
   "outputs": [],
   "source": []
  }
 ],
 "metadata": {
  "kernelspec": {
   "display_name": "Python 3",
   "language": "python",
   "name": "python3"
  },
  "language_info": {
   "codemirror_mode": {
    "name": "ipython",
    "version": 3
   },
   "file_extension": ".py",
   "mimetype": "text/x-python",
   "name": "python",
   "nbconvert_exporter": "python",
   "pygments_lexer": "ipython3",
   "version": "3.8.6"
  }
 },
 "nbformat": 4,
 "nbformat_minor": 4
}
